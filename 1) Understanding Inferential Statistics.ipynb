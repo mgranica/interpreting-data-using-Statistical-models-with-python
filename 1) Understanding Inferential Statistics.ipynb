{
 "cells": [
  {
   "cell_type": "markdown",
   "metadata": {},
   "source": [
    "#  1. Understanding Inferential Statistics"
   ]
  },
  {
   "cell_type": "markdown",
   "metadata": {},
   "source": [
    "*There are tow kinds of statistics, the kind you look up and the kind you make up*"
   ]
  },
  {
   "cell_type": "markdown",
   "metadata": {},
   "source": [
    "**Rex Stout**"
   ]
  },
  {
   "cell_type": "markdown",
   "metadata": {},
   "source": [
    "## Statistics:\n",
    "A branch of mathematics that deals with collecting, organizing, analuzing and interpreting data"
   ]
  },
  {
   "cell_type": "markdown",
   "metadata": {},
   "source": [
    "<img src=\"jpg\\stats_steps.jpg\">"
   ]
  },
  {
   "cell_type": "markdown",
   "metadata": {},
   "source": [
    "- **Descriptive Statistics:** identify importat elements in a dataset\n",
    "\n",
    "    - Univariable: single variable\n",
    "        - Frequency: \n",
    "            - frequency tables\n",
    "            - histograms\n",
    "            \n",
    "        - Central tendency: \n",
    "            - average(mean) \n",
    "            - median\n",
    "            - mode\n",
    "            - geometric mean: use finance use to deal with porcentage to calculate growth rates.\n",
    "            - harmonic mean: rates avg travel speed during the duration of several trips\n",
    "        - Dispersion\n",
    "            - Range\n",
    "            - Inter-quartile range (IQR)\n",
    "            - Standard deviation and vairance\n",
    "    - Bivariable: relationship between two variables\n",
    "        - Correlation: relation of the linear reggression\n",
    "        - Covariance\n",
    "    - Multivariable: more than two varialbes\n",
    "        - Correlation Matrix\n",
    "        - Covariance Matrix"
   ]
  },
  {
   "cell_type": "markdown",
   "metadata": {},
   "source": [
    "    \n",
    "- **Inferential Statistics:** Explain those elements via relationships with other elements\n",
    "\n",
    "    - Hypothesis Testing: test wheter the assumtions about the data are true or not.     \n",
    "        - proposed explanation\n",
    "        - objectively testeable\n",
    "    - Model Fitting: predictive analytics(machine learning techniques)"
   ]
  },
  {
   "cell_type": "markdown",
   "metadata": {},
   "source": [
    "- **Hypothesis Testing**\n",
    "    - **H0**: Null Hypothesis => what is considerer true till is prube false\n",
    "    - **H1**: Alternative Hypothesis => is the negation of the null hipo. th explanation that you are proposing. and you want to test if is it true\n",
    "    - **Select Test**: the hard part is to chose base on your use case and your date.\n",
    "    - **Test Statistic**: What you use to accept or reject the H! that you propose: P-value\n",
    "    - **Significance Level**: Especifie a threshold for luck. Compare the P-value with the significant level. if there is less than 5% chance that this test stadistics is due to luck => considerer the test singnificant\n",
    "    - **Accept or Reject**: this is relative of the reuslt of the P-value\n",
    "        - Below the significance level: reject H0 and accept H1(your proposed explanaition)\n",
    "        - Above: accept H0 -> no relationship\n",
    "        - High P-value: indicates that the result is due to luck\n",
    "    \n",
    "    \n",
    "    "
   ]
  },
  {
   "cell_type": "markdown",
   "metadata": {},
   "source": [
    "<img src=\"jpg\\hypo_steps.jpg\">"
   ]
  },
  {
   "cell_type": "markdown",
   "metadata": {},
   "source": [
    "### Famous Experiment: Lady tasting tea"
   ]
  },
  {
   "cell_type": "markdown",
   "metadata": {},
   "source": [
    "- **Was tea added before or after milk?** Muriel Bristol"
   ]
  },
  {
   "cell_type": "markdown",
   "metadata": {},
   "source": [
    "**Null Hypothesis(H0)**: The lady can not tell if the milk was poured first(always propose no alteration)"
   ]
  },
  {
   "cell_type": "markdown",
   "metadata": {},
   "source": [
    "**Alternative Hypothesis(H1)**: The lady can tell if the milk was proured first"
   ]
  },
  {
   "cell_type": "markdown",
   "metadata": {},
   "source": [
    "- ___good practice:___ to assume that the null hypothesis is correct unless proven otherwise"
   ]
  },
  {
   "cell_type": "markdown",
   "metadata": {},
   "source": [
    "**Select Test:** 8 cups, 4 of each type --> lady got all 8 correct"
   ]
  },
  {
   "cell_type": "markdown",
   "metadata": {},
   "source": [
    "**Test Statistics**: P-value= 1/70 = 1.4% (70 combination possibles)"
   ]
  },
  {
   "cell_type": "markdown",
   "metadata": {},
   "source": [
    "**Significance Level**: choose 5% significance level"
   ]
  },
  {
   "cell_type": "markdown",
   "metadata": {},
   "source": [
    "**Accept or reject**: 1.4 < 5 --> lady can indeed tell the difference"
   ]
  },
  {
   "cell_type": "markdown",
   "metadata": {},
   "source": [
    "**Errors in Hypothesis Testing**:"
   ]
  },
  {
   "cell_type": "markdown",
   "metadata": {},
   "source": [
    "<img src='jpg/error_types.jpg'>"
   ]
  },
  {
   "cell_type": "markdown",
   "metadata": {},
   "source": [
    "- Type I Error: occurs when you reject the null hypothsis when it was acctually true. \n"
   ]
  },
  {
   "cell_type": "markdown",
   "metadata": {},
   "source": [
    "___Example___: Claim the lady can tell the difference based on spurious test results witch are not statistically significant"
   ]
  },
  {
   "cell_type": "markdown",
   "metadata": {},
   "source": [
    "- Type II Err or: you fail to realize that the test for the alternative hypothesis was statisticaly significant"
   ]
  },
  {
   "cell_type": "markdown",
   "metadata": {},
   "source": [
    "### The power of a Statistical Test"
   ]
  },
  {
   "cell_type": "markdown",
   "metadata": {},
   "source": [
    "- Probability Score of rejecting H0 when H1 is true:\n",
    "    - Ranges from 0-1\n",
    "    - High power is good\n",
    "    - High statistical power implies low probability of type-II error\n",
    "    - Power of a binary classifier is also know as a recall metric"
   ]
  },
  {
   "cell_type": "markdown",
   "metadata": {},
   "source": [
    "### Alpha of a Statistical Test"
   ]
  },
  {
   "cell_type": "markdown",
   "metadata": {},
   "source": [
    "- is the probability of rejecting H0 when H0 is true:\n",
    "    - alpha = Probability of Type-I error\n",
    "    - Ranges 0-1\n",
    "    - High alpha is not good"
   ]
  },
  {
   "cell_type": "markdown",
   "metadata": {},
   "source": [
    "### P-value of a Statistical Test"
   ]
  },
  {
   "cell_type": "markdown",
   "metadata": {},
   "source": [
    "- Same as statistical signifiance\n",
    "- P-value is compared to alpha to decide wheter to accept H0\n",
    "- P-value should be as small as possible(i.e. below alpha-threshold)\n",
    "- Typical cut-off values are 1% and 5%"
   ]
  },
  {
   "cell_type": "markdown",
   "metadata": {},
   "source": [
    "## The t-test and Z-test"
   ]
  },
  {
   "cell_type": "markdown",
   "metadata": {},
   "source": [
    "__Statistical test selection:__"
   ]
  },
  {
   "cell_type": "markdown",
   "metadata": {},
   "source": [
    "- There are tests for pretty much everything\n",
    "- knowing which one to use is hard\n",
    "- Actually using them is relatively easy"
   ]
  },
  {
   "cell_type": "markdown",
   "metadata": {},
   "source": [
    "### T-test"
   ]
  },
  {
   "cell_type": "markdown",
   "metadata": {},
   "source": [
    "- Most common, simple statistical test out there\n",
    "- Used to learn about averages across two categories\n",
    "    - Male/Female - high/small\n",
    "- Tells whether the differences are significant"
   ]
  },
  {
   "cell_type": "markdown",
   "metadata": {},
   "source": [
    "___Example:___"
   ]
  },
  {
   "cell_type": "markdown",
   "metadata": {},
   "source": [
    " - Average male baby birth wieght = Average female bay birth weight?\n",
    " - is the difference statistically significant?\n",
    " - you willl divide the data into the two categories"
   ]
  },
  {
   "cell_type": "markdown",
   "metadata": {},
   "source": [
    "**T-statistic:**"
   ]
  },
  {
   "cell_type": "markdown",
   "metadata": {},
   "source": [
    "- score which indicates the difference in means"
   ]
  },
  {
   "cell_type": "markdown",
   "metadata": {},
   "source": [
    "**P-value:**"
   ]
  },
  {
   "cell_type": "markdown",
   "metadata": {},
   "source": [
    "- Whether the t-statistic is significant\n",
    "- Low p-value of <5% mean the result cannot be due to chance"
   ]
  },
  {
   "cell_type": "markdown",
   "metadata": {},
   "source": [
    "#### Assumptions of t-test"
   ]
  },
  {
   "cell_type": "markdown",
   "metadata": {},
   "source": [
    "- Sample mean(s) are normally distributed\n",
    "- Sample variance(s) follow chi2 distribution\n",
    "- Sample mean and variance are independent\n",
    "- Some more mathematical fine print around degree of freedom"
   ]
  },
  {
   "cell_type": "markdown",
   "metadata": {},
   "source": [
    "### One-sample Location test"
   ]
  },
  {
   "cell_type": "markdown",
   "metadata": {},
   "source": [
    "___compares the avreage of a certain category agaisn a constant___"
   ]
  },
  {
   "cell_type": "markdown",
   "metadata": {},
   "source": [
    "- T-test\n",
    "    - Null hypothesis of form\n",
    "    - \"Population mean is equal to specified value\"\n",
    "        - H0: U=U0   "
   ]
  },
  {
   "cell_type": "markdown",
   "metadata": {},
   "source": [
    "**Test statistic of one sample t-test follows Student's distribution**\n",
    "**The same test statistic can be used for the simple Z-test if**\n",
    "  - number of samples is large > 30\n",
    "  - Know the variance of the population of whitch the sample are done\n"
   ]
  },
  {
   "cell_type": "markdown",
   "metadata": {},
   "source": [
    "___Z-test assumes test statistics follows normal distribution___"
   ]
  },
  {
   "cell_type": "markdown",
   "metadata": {},
   "source": [
    "###  Two-sample Location Test"
   ]
  },
  {
   "cell_type": "markdown",
   "metadata": {},
   "source": [
    "___Is the average weight of babies in town A different from that in town B___"
   ]
  },
  {
   "cell_type": "markdown",
   "metadata": {},
   "source": [
    "- Null hypothesis of form:\n",
    "    - \"Population means of two samples are equal\""
   ]
  },
  {
   "cell_type": "markdown",
   "metadata": {},
   "source": [
    "__Slightly different test statistics for__"
   ]
  },
  {
   "cell_type": "markdown",
   "metadata": {},
   "source": [
    "- Equal sample sizes, equal variance: use the independent T-tes\n",
    "- Unequal sample sizes, equal variance: use slightly different test\n",
    "- Equal or un equal sample sizes, unequal variance (welch's t-test)"
   ]
  },
  {
   "cell_type": "markdown",
   "metadata": {},
   "source": [
    "#### Levene's test"
   ]
  },
  {
   "cell_type": "markdown",
   "metadata": {},
   "source": [
    "___WAY OF TESTING FOR EQUALITY OF VARIANCES___"
   ]
  },
  {
   "cell_type": "markdown",
   "metadata": {},
   "source": [
    "- null hypothesis: Population from which two samples are drawn have equal variance\n",
    "    - *if levene's test shows that null hypothesis needs to be rejected*\n",
    "        - Use two samples t-test for unequal variances (welch's test)\n",
    "        - Else can use two sample t-test for equal variance"
   ]
  },
  {
   "cell_type": "markdown",
   "metadata": {},
   "source": [
    "#### Paired Difference Test"
   ]
  },
  {
   "cell_type": "markdown",
   "metadata": {},
   "source": []
  },
  {
   "cell_type": "markdown",
   "metadata": {},
   "source": []
  },
  {
   "cell_type": "markdown",
   "metadata": {},
   "source": []
  },
  {
   "cell_type": "markdown",
   "metadata": {},
   "source": []
  },
  {
   "cell_type": "markdown",
   "metadata": {},
   "source": []
  },
  {
   "cell_type": "markdown",
   "metadata": {},
   "source": []
  },
  {
   "cell_type": "markdown",
   "metadata": {},
   "source": []
  },
  {
   "cell_type": "markdown",
   "metadata": {},
   "source": []
  },
  {
   "cell_type": "markdown",
   "metadata": {},
   "source": []
  }
 ],
 "metadata": {
  "kernelspec": {
   "display_name": "Python 3",
   "language": "python",
   "name": "python3"
  },
  "language_info": {
   "codemirror_mode": {
    "name": "ipython",
    "version": 3
   },
   "file_extension": ".py",
   "mimetype": "text/x-python",
   "name": "python",
   "nbconvert_exporter": "python",
   "pygments_lexer": "ipython3",
   "version": "3.8.0"
  }
 },
 "nbformat": 4,
 "nbformat_minor": 4
}
